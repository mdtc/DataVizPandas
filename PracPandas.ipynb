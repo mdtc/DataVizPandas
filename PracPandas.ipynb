{
 "cells": [
  {
   "cell_type": "markdown",
   "metadata": {},
   "source": [
    "# S1 2021 CSC8001: Assignment 2\n",
    "# Part B [80 marks]\n"
   ]
  },
  {
   "cell_type": "markdown",
   "metadata": {},
   "source": [
    "**You Tasks**: \n",
    "\n",
    "Answer the **five** questions by completing the five functions **b11, b12, b13, b21, b22** below.\n",
    "\n",
    "You can test your code as shown in **\"Example\"** in each question.\n",
    "\n",
    "The data files and pictures you need for Part B are available in the `csc8001a2data` folder. If a larger and clearer view is needed for any of the pictures in this assignment, please open it from the `csc8001a2data` folder.\n"
   ]
  },
  {
   "cell_type": "code",
   "execution_count": 1,
   "metadata": {},
   "outputs": [],
   "source": [
    "%matplotlib inline\n",
    "import matplotlib.pyplot as plt\n",
    "import matplotlib as mpl\n",
    "\n",
    "import numpy as np\n",
    "import pandas as pd"
   ]
  },
  {
   "cell_type": "markdown",
   "metadata": {},
   "source": [
    "# B1: Fuel efficiency [43 total marks]\n",
    "For this problem we're going to use the [UCI Machine Learning Repository](https://archive.ics.uci.edu/ml/datasets/auto+mpg) Auto MPG Data set to explore the association between a car's horsepower and its fuel efficiency."
   ]
  },
  {
   "cell_type": "markdown",
   "metadata": {},
   "source": [
    "## B1.1 Load data [9 marks]\n",
    "For the `b11()` function below: load the Auto MPG data into a Data Frame, clean data as required, and return the Data Frame:\n",
    "\n",
    "- The `auto-mpg.data` data file and its data description, `auto-mpg.names`, are available in `csc8001a2data` folder. \n",
    "\n",
    "- You are required to write Pandas code to read the date from the file `auto-mpg.data` before forming a Data Frame.\n",
    "\n",
    "- You need column names for the Data Frame. Please Use the `Attribute Information` names provided in `auto-mpg.names` for your Data Frame's column names (you can use these names directly without writing code to read the file `auto-mpg.names`).  For two word attribute names, please use the 2nd word only: `year` for `model year` and `name` for `car name`. There are `9` columns in total.\n",
    "\n",
    "**Example:** Please test your `b11()` code by running:\n",
    "\n",
    "`auto = b11()\n",
    " auto.shape `\n",
    "\n",
    "where the expected output should be: \n",
    "\n",
    "`(392,9)`\n",
    "\n",
    "\n",
    "*Hint: Review the course material on Pandas (how to read a file, how to form a Data Frame, etc.)*."
   ]
  },
  {
   "cell_type": "code",
   "execution_count": 2,
   "metadata": {},
   "outputs": [],
   "source": [
    "def b11():\n",
    "    # Your Code, Docstring and Comments Here\n",
    "    # Writting the attribute information to use them as the headers of the data frame\n",
    "    names_df = ['mpg', 'cylinders', 'displacement', 'horsepower', 'weight', \n",
    "                'acceleration', 'model', 'origin', 'name']\n",
    "    \n",
    "    #Loading the auto-mpg file,setting the headers and reading Invalid values\n",
    "    df = pd.read_csv('csc8001a2data/auto-mpg.data', sep='\\s+', header=None, \n",
    "                     names=names_df, na_values='?')\n",
    "    \n",
    "    #re-saving Data Frame to a inicial variable without invalid data\n",
    "    df = df.dropna(axis=0, how='any')\n",
    "    df\n",
    "    \n",
    "    #exporting the data frame \n",
    "    return df\n",
    "    \n",
    "    pass\n",
    "    \n",
    "    "
   ]
  },
  {
   "cell_type": "code",
   "execution_count": 3,
   "metadata": {},
   "outputs": [
    {
     "data": {
      "text/plain": [
       "(392, 9)"
      ]
     },
     "execution_count": 3,
     "metadata": {},
     "output_type": "execute_result"
    }
   ],
   "source": [
    "auto = b11()\n",
    "auto.shape"
   ]
  },
  {
   "cell_type": "markdown",
   "metadata": {},
   "source": [
    "### B1.2 Multi-axes histogram chart [17 marks]\n",
    "To help us explore the association between a car's horsepower and its fuel efficiency, your are tasked to write your `b12()` function which creates a multi-axes histogram chart plotting `horsepower` vs `mpg`.\n",
    "\n",
    "Your `b12()` function should:\n",
    "- call the `b11()` function to retrieve the auto-mpg Data Frame (you formed in `b11()`) \n",
    "- use `seaborn-whitegrid` style, just for this b12 plot (i.e., not for any other question in this assignment)\n",
    "- Figure size is 8 by 8.\n",
    "- Bin size of each histogram is 20.\n",
    "- Marker style is \"D\" (diamond)\n",
    "- *Hint: Review the course material: 04.11 Settings and Stylesheets and 04.08 Multiple Subplots*.\n",
    "- create a plot similar to the one shown below (i.e., **Example** for your testing)\n",
    "\n",
    "\n",
    "\n",
    "\n",
    "<img src=\"csc8001a2data/b12.PNG\" width=488 height=375 align=left />"
   ]
  },
  {
   "cell_type": "code",
   "execution_count": 4,
   "metadata": {},
   "outputs": [],
   "source": [
    "def b12():\n",
    "    # Your code/docstring & comments here to create multi-axes histogram chart \n",
    "    #Adding the seaborn-style of the matplotlib library\n",
    "    plt.style.use('seaborn-whitegrid')\n",
    "    \n",
    "    #loading the data horsepower and mpg from the Data Frame\n",
    "    auto = b11()\n",
    "    hrspw = auto['horsepower']\n",
    "    mpg = auto['mpg']\n",
    "    \n",
    "    #Creating the figure \n",
    "    fig = plt.figure(figsize=(8, 8))\n",
    "    fig.suptitle('Fuel Eficiency: Horse power vs Miles per Galon', fontsize=16)\n",
    "    \n",
    "    #setting up the grid \n",
    "    grid = plt.GridSpec(6,4,wspace=0.3, hspace=0.3)\n",
    "    \n",
    "    #Adding subplots with specific sizes to match the example given\n",
    "    main_ax = fig.add_subplot(grid[1:4, 0:3])\n",
    "    y_hist = fig.add_subplot(grid[0, 0:3], sharex=main_ax)\n",
    "    x_hist = fig.add_subplot(grid[1:4, 3], sharey=main_ax)\n",
    "    \n",
    "    \n",
    "    #plotting, \n",
    "    #main plot scatter plot horsepower vs mpg\n",
    "    main_ax.plot(hrspw, mpg, 'D', markersize=1, color='steelblue')\n",
    "   \n",
    "    \n",
    "    # horsepower histogram \n",
    "    y_hist.hist(hrspw, bins=20, histtype='stepfilled', orientation='vertical', color='steelblue')\n",
    "    y_hist.set_ylabel('horsepower')\n",
    "    y_hist.axes.yaxis.set_ticks([])\n",
    "    \n",
    "    # miles per galon histogram\n",
    "    x_hist.hist(mpg, bins=20, histtype='stepfilled', orientation='horizontal', color='steelblue')\n",
    "    x_hist.set_title('mpg')\n",
    "    x_hist.axes.xaxis.set_ticks([])\n",
    "    \n",
    "    pass\n"
   ]
  },
  {
   "cell_type": "code",
   "execution_count": 5,
   "metadata": {},
   "outputs": [
    {
     "data": {
      "image/png": "[encoded data removed]",
      "text/plain": [
       "<Figure size 576x576 with 3 Axes>"
      ]
     },
     "metadata": {},
     "output_type": "display_data"
    }
   ],
   "source": [
    "b12()"
   ]
  },
  {
   "cell_type": "markdown",
   "metadata": {},
   "source": [
    "### B1.3: Two-dimensional histogram [17 marks]\n",
    "Continuing our explorations into the association between a car's horsepower and its fuel effiecincy, by writing your `b13()` function:\n",
    "\n",
    "Your `b13()` function should:\n",
    "- call the `b11()` function to retrieve the auto-mpg Data Frame \n",
    "- use Matplotlib's `hist2d()` function to generate a two-dimensional histogram of `mpg` vs `horsepower`.  \n",
    "\n",
    "Additional plot criteria:\n",
    "  - Plot `horsepower` on the horizontal axis and `mpg` along the vertical axis.\n",
    "  - Figure size: 10 by 5\n",
    "  - 25 bins\n",
    "  - Plot range values for horsepower between 40 and 235, and mpg between 5 and 50.\n",
    "   - Colorbar with an appropriate color map \n",
    "   - Appropriate labels\n",
    "\n",
    "\n",
    "*Hint: Review the course material on how to plot a histogram with Matploitlib, particularly a two-dimensional histogram.*.\n",
    "\n",
    "**Example**:\n",
    "The picture should be similar to the one shown below:\n",
    "\n",
    "<img src=\"csc8001a2data/b13.PNG\" width=488 height=375 align=left />\n",
    "\n"
   ]
  },
  {
   "cell_type": "code",
   "execution_count": 6,
   "metadata": {},
   "outputs": [],
   "source": [
    "def b13():\n",
    "    #importing the data frame\n",
    "    auto = b11()\n",
    "    hrspw = auto['horsepower']\n",
    "    mpg = auto['mpg']\n",
    "    \n",
    "    #setting up the data from the values given in instructions using \"masking values\"\n",
    "    hrspw_new = hrspw[(hrspw > 40) & (hrspw < 235)]\n",
    "    mpg_new = mpg[(mpg > 5) & (mpg < 50)]\n",
    "    \n",
    "    #creating the figure and setting size\n",
    "    fig = plt.figure(figsize=(10,5))\n",
    "    \n",
    "    #adding title \n",
    "    fig.suptitle('Fuel Eficiency: Horse power vs Miles per Galon')\n",
    "    \n",
    "    #plotting with function hist2d and setting wight color \n",
    "    plt.hist2d(hrspw_new, mpg_new, bins=25, cmap='Reds')\n",
    "    \n",
    "    #adding labels  \n",
    "    plt.ylabel('Miles per Galon (MGP)')\n",
    "    plt.xlabel('Horsepower')\n",
    "    \n",
    "    #setting colorbar\n",
    "    cb = plt.colorbar()\n",
    "    cb.set_label('count in bin')\n",
    "\n",
    "    \n",
    "    pass \n",
    "    return plt.show()"
   ]
  },
  {
   "cell_type": "code",
   "execution_count": 7,
   "metadata": {},
   "outputs": [
    {
     "data": {
      "image/png": "[encoded data removed]",
      "text/plain": [
       "<Figure size 720x360 with 2 Axes>"
      ]
     },
     "metadata": {},
     "output_type": "display_data"
    }
   ],
   "source": [
    "b13()"
   ]
  },
  {
   "cell_type": "markdown",
   "metadata": {},
   "source": [
    "# B2: Birthdays [37 total marks]\n",
    "For this problem we will be analysing and visualising U.S. birth data as an homage to Matt Stiles's [\"How Common is Your Birthday\"](http://thedailyviz.com/2016/09/17/how-common-is-your-birthday-dailyviz/) article.  Our chart will use the birth data gathered by [FiveThirtyEight](https://github.com/fivethirtyeight/data/tree/master/births): \n",
    "\n",
    "There are two birth data files, both available in the assignment `csc8001a2data` folder:\n",
    "\n",
    "- `US_births_1994-2003_CDC_NCHS.csv`: <br>\n",
    "   Births from 1994 to 2003 (Centers for Disease Control and   Prevention's National Center for Health Statistics)\n",
    "\n",
    "- `US_births_2000-2014_SSA.csv`: <br>\n",
    "   Births from 2000 to 2014 (Social Security Administration)\n",
    "\n",
    "Both files have the following structure:\n",
    "\n",
    "| year |\tmonth |\tdate_of_month |\tday_of_week\t | births |\n",
    "|:---|:---|:---|:---|:---|\n",
    "| 1994 |\t1 |\t1 |\t6 |\t8096 |\n",
    " |1994 |\t1 |\t2 |\t7 |\t7772 |\n",
    " |1994 |\t1 |\t3 |\t1 |\t10142 |\n",
    " |1994 |\t1 |\t4 |\t2 |\t11248 |\n"
   ]
  },
  {
   "cell_type": "markdown",
   "metadata": {},
   "source": [
    "### B2.1 Load data [17 marks]\n",
    "Complete the `b21()` function below which should provide the following functionality:\n",
    "- Load data from the two files into one Data Frame and clean as required.\n",
    "- Return a Data Frame with multiple indexes for `month` and `date_of_month` and a `births` column which has the average daily births from 1994-2014. \n",
    "\n",
    "\n",
    "*Hint: Review the course material: *03.05 Hierarchical Indexing*.\n",
    "\n",
    "**Example** Please test your `b21()` code by running `b21().tail()`, whereas the expected output should be as follows:\n",
    "\n",
    "\n",
    "<img src=\"csc8001a2data/b21.PNG\" width=221 height=199 align=left />\n"
   ]
  },
  {
   "cell_type": "code",
   "execution_count": 8,
   "metadata": {},
   "outputs": [],
   "source": [
    "def b21():\n",
    "    # Your code/docstring & comments here\n",
    "    #importing databases \n",
    "    Data1= pd.read_csv('csc8001a2data/US_births_1994-2003_CDC_NCHS.csv')\n",
    "    Data2 = pd.read_csv('csc8001a2data/US_births_2000-2014_SSA.csv')\n",
    "    \n",
    "    #concatenating data\n",
    "    dF = pd.concat((Data1,Data2), ignore_index=True)\n",
    "    \n",
    "    #set the multi indexing\n",
    "    dF = dF.set_index(['month', 'date_of_month'])\n",
    "    \n",
    "    #dropping the columns not used in this data frame \n",
    "    dF = dF.drop(columns=['year', 'day_of_week'])\n",
    "    dF.sort_index(inplace=True)\n",
    "    \n",
    "    #grouping the results according their months and getting the average birth per day \n",
    "    dF = dF.groupby(['month','date_of_month']).mean('births')\n",
    "    \n",
    "    \n",
    "    return dF\n",
    "    pass"
   ]
  },
  {
   "cell_type": "code",
   "execution_count": 9,
   "metadata": {},
   "outputs": [
    {
     "data": {
      "text/html": [
       "<div>\n",
       "<style scoped>\n",
       "    .dataframe tbody tr th:only-of-type {\n",
       "        vertical-align: middle;\n",
       "    }\n",
       "\n",
       "    .dataframe tbody tr th {\n",
       "        vertical-align: top;\n",
       "    }\n",
       "\n",
       "    .dataframe thead th {\n",
       "        text-align: right;\n",
       "    }\n",
       "</style>\n",
       "<table border=\"1\" class=\"dataframe\">\n",
       "  <thead>\n",
       "    <tr style=\"text-align: right;\">\n",
       "      <th></th>\n",
       "      <th></th>\n",
       "      <th>births</th>\n",
       "    </tr>\n",
       "    <tr>\n",
       "      <th>month</th>\n",
       "      <th>date_of_month</th>\n",
       "      <th></th>\n",
       "    </tr>\n",
       "  </thead>\n",
       "  <tbody>\n",
       "    <tr>\n",
       "      <th rowspan=\"5\" valign=\"top\">12</th>\n",
       "      <th>27</th>\n",
       "      <td>11792.48</td>\n",
       "    </tr>\n",
       "    <tr>\n",
       "      <th>28</th>\n",
       "      <td>11758.76</td>\n",
       "    </tr>\n",
       "    <tr>\n",
       "      <th>29</th>\n",
       "      <td>11815.84</td>\n",
       "    </tr>\n",
       "    <tr>\n",
       "      <th>30</th>\n",
       "      <td>11791.08</td>\n",
       "    </tr>\n",
       "    <tr>\n",
       "      <th>31</th>\n",
       "      <td>10462.12</td>\n",
       "    </tr>\n",
       "  </tbody>\n",
       "</table>\n",
       "</div>"
      ],
      "text/plain": [
       "                       births\n",
       "month date_of_month          \n",
       "12    27             11792.48\n",
       "      28             11758.76\n",
       "      29             11815.84\n",
       "      30             11791.08\n",
       "      31             10462.12"
      ]
     },
     "execution_count": 9,
     "metadata": {},
     "output_type": "execute_result"
    }
   ],
   "source": [
    "b21().tail()"
   ]
  },
  {
   "cell_type": "markdown",
   "metadata": {},
   "source": [
    "### B2.2 Plot data [20 marks]\n",
    "Create a heatmap style plot similar to the one as shown in **Example** below, from Matt Stiles's article: [\"How Common is Your Birthday\"](http://thedailyviz.com/2016/09/17/how-common-is-your-birthday-dailyviz/). \n",
    "\n",
    "Additional criteria:\n",
    " - Use `b21()` function to load data \n",
    " - You are not allowed to directly apply the following Matplotlib bulit-in function: `seaborn.heatmap()`\n",
    " - figsize is `16 by 6`\n",
    " - Add appropriate labels. \n",
    "   - X-axis labels should be on the top of the plot.\n",
    " - Distribution of average daily births per month/day should be similar to the aforementioned article's.\n",
    " - For the color bar select the appropriate discrete values and color limits. Indicate out-of-bounds values with a triangular arrow.\n",
    "    - Do not need to duplicate article's color map or colorbar placement. \n",
    " \n",
    " \n",
    "*Hint: You may find the following recources useful*:\n",
    "- Matt Stiles's article: [\"How Common is Your Birthday\"](http://thedailyviz.com/2016/09/17/how-common-is-your-birthday-dailyviz/).\n",
    "- [Creating annotated heatmaps](https://matplotlib.org/gallery/images_contours_and_fields/image_annotated_heatmap.html#sphx-glr-gallery-images-contours-and-fields-image-annotated-heatmap-py) \n",
    "- Course material: 04.07 Customizing Colorbars (from course material)\n",
    "\n",
    "\n",
    "**Example**:\n",
    "The picture should be similar to the one shown below:\n",
    "\n",
    "<img src=\"csc8001a2data/b22.PNG\" width=738 height=343 align=left/> <br>"
   ]
  },
  {
   "cell_type": "code",
   "execution_count": 10,
   "metadata": {},
   "outputs": [],
   "source": [
    "def b22():\n",
    "    # Your code/docstring & comments here\n",
    "    \n",
    "    #retrieving data from b21 function         \n",
    "    dt = b21()      \n",
    "    births = dt.values\n",
    "    vmin = min(births)\n",
    "    vmax = max(births)\n",
    "    \n",
    "    #list with months for to replace the ticklabels\n",
    "    months = ['Jan', 'Feb', 'Mar', 'Apr', 'May', 'Jun', 'Jul', 'Aug', 'Sep', 'Oct', 'Nov', 'Dec']\n",
    "\n",
    "    #adding figure and subplot\n",
    "    fig = plt.figure(figsize=(16,6))\n",
    "    ax = fig.add_subplot(1,1,1)\n",
    "    \n",
    "    #adding title and setting it up to the bottom of the heatmap\n",
    "    fig.suptitle('U.S Average Daily Births: 1994 - 2014',x=0.5, y=.09, ha='center', size='x-large')\n",
    "    \n",
    "    #reseting index to a format readable by the plot\n",
    "    df2 = dt.reset_index().pivot(columns='date_of_month', index='month', values='births')\n",
    "    #setting the normalize options as a good pratice, for mapping the color according to the \n",
    "    #min and max data value. However this will be overwrite by the descrete values and color limits\n",
    "    normalize = mpl.colors.Normalize(vmin=vmin, vmax=vmax)\n",
    "    \n",
    "    #plotting the heatmap with the function pcolor and adding more arguments to make it as \n",
    "    #close as posible to the given example\n",
    "    htmap = ax.pcolor(df2.columns, df2.index, df2.values, norm=normalize, \n",
    "                      cmap=plt.cm.get_cmap('Blues', 10), edgecolors='white', \n",
    "                      linewidth=4, shading='auto' )\n",
    "    \n",
    "    #moving x-label to the top of the plot\n",
    "    ax.xaxis.set_ticks_position('top')\n",
    "    \n",
    "    #setting up ticks and labels \n",
    "    ax.tick_params(which='both', width=2, length=2, color='k', labelsize=12)\n",
    "    ax.set_yticks(df2.index)\n",
    "    ax.set_yticklabels(months)\n",
    "    ax.invert_yaxis()\n",
    "    ax.set_xticks(df2.columns)    \n",
    "   \n",
    "    #plottiong the colorbar. By default ticks are sustracted from the data values. However in order \n",
    "    #to make the plot similar to the example, I used fixed data. \n",
    "    clbr = fig.colorbar(htmap,ticks=[9500,11000,12400],extend='both', \n",
    "                        orientation='horizontal',\n",
    "                        pad=0.2, shrink=0.7)\n",
    "    clbr.set_ticklabels(['<9.5k', '11k', '>12.4k'])\n",
    "    clbr.ax.tick_params(labelsize=14)\n",
    "    \n",
    "    #please note that I could use the vmin and vmax variables which uses the max and min of the \n",
    "    #actual data, but the result plot colormap was slightly different from the example, \n",
    "    #I decided to use fixed values to set up the heatmap limits.\n",
    "    #The original line of code was: #htmap.set_clim(vmin, vmax)\n",
    "    htmap.set_clim(9500, 12400)\n",
    "    \n",
    "   \n",
    "   \n",
    "    \n",
    "    return plt.show()\n",
    "    pass "
   ]
  },
  {
   "cell_type": "code",
   "execution_count": 11,
   "metadata": {
    "scrolled": false
   },
   "outputs": [
    {
     "data": {
      "image/png": "[encoded data removed]",
      "text/plain": [
       "<Figure size 1152x432 with 2 Axes>"
      ]
     },
     "metadata": {},
     "output_type": "display_data"
    }
   ],
   "source": [
    "b22()"
   ]
  },
  {
   "cell_type": "markdown",
   "metadata": {},
   "source": [
    "Parts of this assignment were based on/adapted from:\n",
    "- \"Some People Are Too Superstitious To Have A Baby On Friday The 13th\", [FiveThirtyEight](https://fivethirtyeight.com/features/some-people-are-too-superstitious-to-have-a-baby-on-friday-the-13th/), 13 May 2016.\n",
    "- \"How Common is Your Birthday\", [The Daily Viz](http://thedailyviz.com/2016/09/17/how-common-is-your-birthday-dailyviz/), Matt Stiles, September 17, 2016"
   ]
  },
  {
   "cell_type": "code",
   "execution_count": null,
   "metadata": {},
   "outputs": [],
   "source": []
  }
 ],
 "metadata": {
  "kernelspec": {
   "display_name": "Python 3",
   "language": "python",
   "name": "python3"
  },
  "language_info": {
   "codemirror_mode": {
    "name": "ipython",
    "version": 3
   },
   "file_extension": ".py",
   "mimetype": "text/x-python",
   "name": "python",
   "nbconvert_exporter": "python",
   "pygments_lexer": "ipython3",
   "version": "3.8.5"
  }
 },
 "nbformat": 4,
 "nbformat_minor": 2
}
